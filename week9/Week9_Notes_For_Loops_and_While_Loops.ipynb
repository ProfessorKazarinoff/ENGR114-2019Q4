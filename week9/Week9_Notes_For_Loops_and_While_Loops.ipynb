{
 "cells": [
  {
   "cell_type": "markdown",
   "metadata": {},
   "source": [
    "# Week 9 Notes: For Loops and While Loops\n",
    "\n",
    "## Outline\n",
    "\n",
    " * For loops\n",
    " * break and continue in for loops\n",
    " * While loops\n",
    " * While loops to validate user input\n",
    " * break and continue in while loops\n",
    " * Numerical method example using a for loop"
   ]
  },
  {
   "cell_type": "markdown",
   "metadata": {},
   "source": [
    "## For Loops\n",
    "\n",
    "```text\n",
    "for <var> in <iterable>:\n",
    "    <code>\n",
    "```"
   ]
  },
  {
   "cell_type": "code",
   "execution_count": 1,
   "metadata": {},
   "outputs": [
    {
     "name": "stdout",
     "output_type": "stream",
     "text": [
      "3\n",
      "5\n",
      "7\n",
      "9\n"
     ]
    }
   ],
   "source": [
    "# for loop with range()\n",
    "# range(start,stop,step)\n",
    "\n",
    "# print out the numbers 3,5,7,9\n",
    "for i in range(3,9+2,2):\n",
    "    print(i)"
   ]
  },
  {
   "cell_type": "code",
   "execution_count": 2,
   "metadata": {},
   "outputs": [
    {
     "name": "stdout",
     "output_type": "stream",
     "text": [
      "Mon\n",
      "Tues\n",
      "Wed\n",
      "Thurs\n",
      "Fri\n",
      "Sat\n",
      "Sun\n"
     ]
    }
   ],
   "source": [
    "# for loop with a list\n",
    "\n",
    "days = ['Mon','Tues','Wed','Thurs','Fri','Sat','Sun']\n",
    "for day in days:\n",
    "    print(day)"
   ]
  },
  {
   "cell_type": "code",
   "execution_count": 3,
   "metadata": {},
   "outputs": [
    {
     "name": "stdout",
     "output_type": "stream",
     "text": [
      "c\n",
      "o\n",
      "f\n",
      "f\n",
      "e\n",
      "e\n"
     ]
    }
   ],
   "source": [
    "# for loop with a string\n",
    "letters='coffee'\n",
    "for letter in letters:\n",
    "    print(letter)"
   ]
  },
  {
   "cell_type": "markdown",
   "metadata": {},
   "source": [
    "## For loops with break and continue\n",
    "\n",
    "```break``` stops the for loop and \"hops\" down to the code below the for loop\n",
    "\n",
    "```continue``` stops the current iteration of a for loops and starts at the top of the code that runs as part of the for loop"
   ]
  },
  {
   "cell_type": "code",
   "execution_count": 4,
   "metadata": {},
   "outputs": [
    {
     "name": "stdout",
     "output_type": "stream",
     "text": [
      "1\n",
      "2\n",
      "3\n",
      "4\n",
      "loops is done\n"
     ]
    }
   ],
   "source": [
    "for i in range(1,11):\n",
    "    if i==5:\n",
    "        break\n",
    "    print(i)\n",
    "print(\"loops is done\")"
   ]
  },
  {
   "cell_type": "code",
   "execution_count": 5,
   "metadata": {},
   "outputs": [
    {
     "name": "stdout",
     "output_type": "stream",
     "text": [
      "1\n",
      "2\n",
      "3\n",
      "4\n",
      "6\n",
      "7\n",
      "8\n",
      "9\n",
      "10\n",
      "loops is done\n"
     ]
    }
   ],
   "source": [
    "for i in range(1,11):\n",
    "    if i==5:\n",
    "        continue\n",
    "    print(i)\n",
    "print(\"loops is done\")"
   ]
  },
  {
   "cell_type": "code",
   "execution_count": 6,
   "metadata": {},
   "outputs": [
    {
     "name": "stdout",
     "output_type": "stream",
     "text": [
      "code at top of loop\n",
      "1\n",
      "code at bottom of loop\n",
      "code at top of loop\n",
      "2\n",
      "code at bottom of loop\n",
      "code at top of loop\n",
      "code at top of loop\n",
      "4\n",
      "code at bottom of loop\n",
      "code at top of loop\n",
      "5\n",
      "code at bottom of loop\n",
      "loops is done\n"
     ]
    }
   ],
   "source": [
    "for i in range(1,6):\n",
    "    print('code at top of loop')\n",
    "    if i==3:\n",
    "        continue\n",
    "    print(i)\n",
    "    print('code at bottom of loop')\n",
    "print(\"loops is done\")"
   ]
  },
  {
   "cell_type": "code",
   "execution_count": 7,
   "metadata": {},
   "outputs": [
    {
     "name": "stdout",
     "output_type": "stream",
     "text": [
      "outer loops number 1\n",
      "inner loops number 1\n",
      "inner loops number 3\n",
      "inner loops number 4\n",
      "inner loops number 5\n",
      "outer loops number 2\n",
      "inner loops number 1\n",
      "inner loops number 3\n",
      "inner loops number 4\n",
      "inner loops number 5\n"
     ]
    }
   ],
   "source": [
    "# continue and break only correspond to the loop they correspond to\n",
    "\n",
    "for i_out in range(1,4):\n",
    "    if i_out==3:\n",
    "        break\n",
    "    print(f'outer loops number {i_out}')\n",
    "    for i_in in range(1,6):\n",
    "        if i_in==2:\n",
    "            continue\n",
    "        print(f'inner loops number {i_in}')"
   ]
  },
  {
   "cell_type": "markdown",
   "metadata": {},
   "source": [
    "## While Loops\n",
    "\n",
    "Syntax to run a while loop in Python\n",
    "\n",
    "```text\n",
    "while <logical_condition>:\n",
    "   <code>\n",
    "```"
   ]
  },
  {
   "cell_type": "code",
   "execution_count": 8,
   "metadata": {},
   "outputs": [
    {
     "name": "stdout",
     "output_type": "stream",
     "text": [
      "1\n",
      "2\n",
      "3\n"
     ]
    }
   ],
   "source": [
    "# use a while loop to count the numbers 1,2 and 3\n",
    "n = 1\n",
    "while n<=3:\n",
    "    print(n)\n",
    "    n = n + 1"
   ]
  },
  {
   "cell_type": "code",
   "execution_count": 9,
   "metadata": {},
   "outputs": [
    {
     "name": "stdout",
     "output_type": "stream",
     "text": [
      "code at top of loop\n",
      "1\n",
      "code at bottome of loop\n",
      "code at top of loop\n"
     ]
    }
   ],
   "source": [
    "n = 1\n",
    "while n<=3:\n",
    "    print('code at top of loop')\n",
    "    if n==2:\n",
    "        break\n",
    "    print(n)\n",
    "    n = n + 1\n",
    "    print('code at bottome of loop')"
   ]
  },
  {
   "cell_type": "code",
   "execution_count": 10,
   "metadata": {},
   "outputs": [
    {
     "name": "stdout",
     "output_type": "stream",
     "text": [
      "code at top of loop\n",
      "1\n",
      "code at bottome of loop\n"
     ]
    }
   ],
   "source": [
    "n = 1\n",
    "while n<2:\n",
    "    print('code at top of loop')\n",
    "#    if n==2:\n",
    "#        break\n",
    "    print(n)\n",
    "    n = n + 1\n",
    "    print('code at bottome of loop')"
   ]
  },
  {
   "cell_type": "code",
   "execution_count": 11,
   "metadata": {},
   "outputs": [
    {
     "name": "stdout",
     "output_type": "stream",
     "text": [
      "code at top of loop\n",
      "2\n",
      "code at bottom of loop\n",
      "code at top of loop\n",
      "code at top of loop\n",
      "4\n",
      "code at bottom of loop\n",
      "code at top of loop\n",
      "5\n",
      "code at bottom of loop\n",
      "code at top of loop\n",
      "6\n",
      "code at bottom of loop\n"
     ]
    }
   ],
   "source": [
    "n = 1\n",
    "while n<6:\n",
    "    print('code at top of loop')\n",
    "    n = n + 1\n",
    "    if n==3:\n",
    "        continue\n",
    "    print(n)\n",
    "    \n",
    "    print('code at bottom of loop')"
   ]
  },
  {
   "cell_type": "markdown",
   "metadata": {},
   "source": [
    "## Use a while loop to validate user input"
   ]
  },
  {
   "cell_type": "code",
   "execution_count": 12,
   "metadata": {},
   "outputs": [
    {
     "name": "stdout",
     "output_type": "stream",
     "text": [
      "Enter a color red green or blue: white\n",
      "Enter a color red green or blue: orange\n",
      "Enter a color red green or blue: blue\n",
      "You entered the valid color blue\n"
     ]
    }
   ],
   "source": [
    "# ask the user for the colors 'red','green' or 'blue', if the user enters anything else but these colors ask again for a color\n",
    "\n",
    "# create invalid input\n",
    "color = 'black'\n",
    "\n",
    "# initialize a while loop using the syntax: while not (condition you want):\n",
    "while not (color in ['red','green','blue']):\n",
    "    # ask the user for valid input\n",
    "    color = input('Enter a color red green or blue: ')\n",
    "\n",
    "# run any code after the valid input is entered\n",
    "print(f'You entered the valid color {color}')"
   ]
  },
  {
   "cell_type": "code",
   "execution_count": 13,
   "metadata": {},
   "outputs": [
    {
     "name": "stdout",
     "output_type": "stream",
     "text": [
      "Enter a whole number between 1 and 10: -1\n",
      "You entered an invalid number\n",
      "Enter a whole number between 1 and 10: 14\n",
      "You entered an invalid number\n",
      "Enter a whole number between 1 and 10: 6\n",
      "You entered the number 6\n"
     ]
    }
   ],
   "source": [
    "# ask a user for a number 1 to 10\n",
    "\n",
    "# create invalid input\n",
    "n = -1\n",
    "\n",
    "# initialize a while loop using the syntax: while not (condition you want):\n",
    "while not (n<=10 and n>=1 and n%1==0):\n",
    "    #ask the user for valid input\n",
    "    n_str = input('Enter a whole number between 1 and 10: ')\n",
    "    n = float(n_str)\n",
    "    if (n<=10 and n>=1 and n%1==0):\n",
    "        break\n",
    "    print(\"You entered an invalid number\")\n",
    "\n",
    "# run any code after the valid input is entered\n",
    "print(f'You entered the number {int(n)}')"
   ]
  },
  {
   "cell_type": "code",
   "execution_count": null,
   "metadata": {},
   "outputs": [],
   "source": []
  }
 ],
 "metadata": {
  "kernelspec": {
   "display_name": "Python 3",
   "language": "python",
   "name": "python3"
  },
  "language_info": {
   "codemirror_mode": {
    "name": "ipython",
    "version": 3
   },
   "file_extension": ".py",
   "mimetype": "text/x-python",
   "name": "python",
   "nbconvert_exporter": "python",
   "pygments_lexer": "ipython3",
   "version": "3.7.0"
  }
 },
 "nbformat": 4,
 "nbformat_minor": 2
}
