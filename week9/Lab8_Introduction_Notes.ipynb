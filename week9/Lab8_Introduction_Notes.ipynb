{
 "cells": [
  {
   "cell_type": "markdown",
   "metadata": {},
   "source": [
    "# Lab 8 Taylor Series: Introduction and Notes"
   ]
  },
  {
   "cell_type": "code",
   "execution_count": null,
   "metadata": {},
   "outputs": [],
   "source": [
    "from math import factorial, pi\n",
    "\n",
    "approx = 0\n",
    "x = pi/4\n",
    "for i in range(0,3):\n",
    "    coef = (-1)**i\n",
    "    num = x**(2*i)\n",
    "    denom = factorial(2*i)\n",
    "    term = coef*(num/denom)\n",
    "    approx = approx + term\n",
    "\n",
    "print(approx)\n",
    "    "
   ]
  },
  {
   "cell_type": "code",
   "execution_count": null,
   "metadata": {},
   "outputs": [],
   "source": [
    "def cos_approx(x,n_terms):\n",
    "    \n",
    "    approx = 0\n",
    "    for i in range(0,n_terms):\n",
    "        coef = (-1)**i\n",
    "        num = x**(2*i)\n",
    "        denom = factorial(2*i)\n",
    "        term = coef*(num/denom)\n",
    "        approx = approx + term\n",
    "        \n",
    "    return approx\n",
    "    "
   ]
  },
  {
   "cell_type": "code",
   "execution_count": null,
   "metadata": {},
   "outputs": [],
   "source": [
    "cos_approx(pi/4,3)"
   ]
  },
  {
   "cell_type": "code",
   "execution_count": null,
   "metadata": {},
   "outputs": [],
   "source": [
    "%ls"
   ]
  },
  {
   "cell_type": "code",
   "execution_count": 8,
   "metadata": {},
   "outputs": [
    {
     "data": {
      "text/plain": [
       "0.707429206709773"
      ]
     },
     "execution_count": 8,
     "metadata": {},
     "output_type": "execute_result"
    }
   ],
   "source": [
    "from math import pi\n",
    "# from <file_name> import <function_name>      # do not use .py extension in filename\n",
    "from my_funcs import cos_approx\n",
    "\n",
    "cos_approx(pi/4,3)"
   ]
  },
  {
   "cell_type": "code",
   "execution_count": null,
   "metadata": {},
   "outputs": [],
   "source": []
  }
 ],
 "metadata": {
  "kernelspec": {
   "display_name": "Python 3",
   "language": "python",
   "name": "python3"
  },
  "language_info": {
   "codemirror_mode": {
    "name": "ipython",
    "version": 3
   },
   "file_extension": ".py",
   "mimetype": "text/x-python",
   "name": "python",
   "nbconvert_exporter": "python",
   "pygments_lexer": "ipython3",
   "version": "3.7.0"
  }
 },
 "nbformat": 4,
 "nbformat_minor": 2
}
