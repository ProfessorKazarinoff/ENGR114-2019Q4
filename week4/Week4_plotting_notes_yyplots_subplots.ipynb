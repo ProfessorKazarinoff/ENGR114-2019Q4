{
 "cells": [
  {
   "cell_type": "markdown",
   "metadata": {},
   "source": [
    "# Week 4 Plotting Notes yy plots, subplots"
   ]
  },
  {
   "cell_type": "markdown",
   "metadata": {},
   "source": [
    "## yy plots\n",
    "\n",
    "A y-y plot is a type of plot that has two different y-axes and each y-axis can have a different scale. Y-y plots allow you to plot two different data sets that have vastly different ranges. Each data set on a y-y plot shares the same x-value and the same x-axis."
   ]
  },
  {
   "cell_type": "code",
   "execution_count": 1,
   "metadata": {},
   "outputs": [
    {
     "data": {
      "image/png": "[encoded data removed]",
      "text/plain": [
       "<Figure size 432x288 with 2 Axes>"
      ]
     },
     "metadata": {
      "needs_background": "light"
     },
     "output_type": "display_data"
    }
   ],
   "source": [
    "# Imports\n",
    "import numpy as np\n",
    "import matplotlib.pyplot as plt\n",
    "# if using a Jupyter notebook, include:\n",
    "%matplotlib inline\n",
    "\n",
    "# Create data the data to plot\n",
    "x = np.arange(0,5,0.1)\n",
    "y1 = np.cos(x)\n",
    "y2 = np.exp(x)\n",
    "\n",
    "# Create the fig, ax objects\n",
    "fig, ax1 = plt.subplots()\n",
    "\n",
    "# plot the data and create a second ax object for the right-hard axis\n",
    "ax1.plot(x,y1,'b')\n",
    "ax1.set_xlabel('x from 0 to 5')\n",
    "ax1.tick_params(axis='y', labelcolor='b')\n",
    "ax1.set_ylabel('cos(x)')\n",
    "ax1.set_title('yy plot of cos(x) and e^x')\n",
    "\n",
    "ax2 = ax1.twinx()\n",
    "ax2.plot(x,y2,'r')\n",
    "#ax2.set_xlabel('x from 0 to 5')\n",
    "ax2.tick_params(axis='y', labelcolor='r')\n",
    "ax2.set_ylabel('e^x')\n",
    "\n",
    "# show the plot\n",
    "plt.show()"
   ]
  },
  {
   "cell_type": "markdown",
   "metadata": {},
   "source": [
    "## Build subplots from an external data file"
   ]
  },
  {
   "cell_type": "code",
   "execution_count": 2,
   "metadata": {},
   "outputs": [
    {
     "name": "stdout",
     "output_type": "stream",
     "text": [
      " Volume in drive C is Windows\n",
      " Volume Serial Number is B899-AB94\n",
      "\n",
      " Directory of C:\\Users\\student\\Desktop\n",
      "\n",
      "10/16/2019  10:15 AM    <DIR>          .\n",
      "10/16/2019  10:15 AM    <DIR>          ..\n",
      "10/16/2019  09:17 AM    <DIR>          .ipynb_checkpoints\n",
      "10/16/2019  09:40 AM            57,586 govt_camp_2013_01_to_2016_03.xlsx\n",
      "10/16/2019  09:13 AM             1,457 Kaltura Capture.lnk\n",
      "05/13/2016  01:33 PM               210 MSDS Online.url\n",
      "08/01/2018  04:14 PM    <DIR>          Safety Information\n",
      "10/16/2019  10:15 AM           100,023 Week4_plotting_notes_yyplots_subplots.ipynb\n",
      "               4 File(s)        159,276 bytes\n",
      "               4 Dir(s)  321,844,895,744 bytes free\n"
     ]
    }
   ],
   "source": [
    "# show all the files in the same directory as the running Jupyter notebook\n",
    "%ls   "
   ]
  },
  {
   "cell_type": "markdown",
   "metadata": {},
   "source": [
    "### Import Packages: NumPy, Pandas, Matplotlib"
   ]
  },
  {
   "cell_type": "code",
   "execution_count": 3,
   "metadata": {},
   "outputs": [],
   "source": [
    "import numpy as np\n",
    "import pandas as pd\n",
    "import matplotlib.pyplot as plt\n",
    "# if using a Jupyter notebook, include:\n",
    "%matplotlib inline"
   ]
  },
  {
   "cell_type": "markdown",
   "metadata": {},
   "source": [
    "### Import the .xlsx datafile and clean it up so that years, months and days are in their own columns of a NumPy array"
   ]
  },
  {
   "cell_type": "code",
   "execution_count": 4,
   "metadata": {},
   "outputs": [
    {
     "data": {
      "text/html": [
       "<div>\n",
       "<style scoped>\n",
       "    .dataframe tbody tr th:only-of-type {\n",
       "        vertical-align: middle;\n",
       "    }\n",
       "\n",
       "    .dataframe tbody tr th {\n",
       "        vertical-align: top;\n",
       "    }\n",
       "\n",
       "    .dataframe thead th {\n",
       "        text-align: right;\n",
       "    }\n",
       "</style>\n",
       "<table border=\"1\" class=\"dataframe\">\n",
       "  <thead>\n",
       "    <tr style=\"text-align: right;\">\n",
       "      <th></th>\n",
       "      <th>STATION</th>\n",
       "      <th>STATION_NAME</th>\n",
       "      <th>DATE</th>\n",
       "      <th>Precipitation\n",
       "(inches)</th>\n",
       "      <th>Snow Depth\n",
       "(inches)</th>\n",
       "      <th>Snowfall\n",
       "(inches)</th>\n",
       "      <th>Max Temp (°F)</th>\n",
       "      <th>Min Temp (°F)</th>\n",
       "    </tr>\n",
       "  </thead>\n",
       "  <tbody>\n",
       "    <tr>\n",
       "      <th>0</th>\n",
       "      <td>GHCND:USC00353402</td>\n",
       "      <td>GOVERNMENT CAMP OR US</td>\n",
       "      <td>20130101</td>\n",
       "      <td>0.00</td>\n",
       "      <td>44</td>\n",
       "      <td>0.0</td>\n",
       "      <td>29</td>\n",
       "      <td>12</td>\n",
       "    </tr>\n",
       "    <tr>\n",
       "      <th>1</th>\n",
       "      <td>GHCND:USC00353402</td>\n",
       "      <td>GOVERNMENT CAMP OR US</td>\n",
       "      <td>20130102</td>\n",
       "      <td>0.01</td>\n",
       "      <td>42</td>\n",
       "      <td>0.0</td>\n",
       "      <td>27</td>\n",
       "      <td>11</td>\n",
       "    </tr>\n",
       "    <tr>\n",
       "      <th>2</th>\n",
       "      <td>GHCND:USC00353402</td>\n",
       "      <td>GOVERNMENT CAMP OR US</td>\n",
       "      <td>20130103</td>\n",
       "      <td>0.00</td>\n",
       "      <td>42</td>\n",
       "      <td>0.0</td>\n",
       "      <td>20</td>\n",
       "      <td>12</td>\n",
       "    </tr>\n",
       "    <tr>\n",
       "      <th>3</th>\n",
       "      <td>GHCND:USC00353402</td>\n",
       "      <td>GOVERNMENT CAMP OR US</td>\n",
       "      <td>20130104</td>\n",
       "      <td>0.16</td>\n",
       "      <td>41</td>\n",
       "      <td>0.0</td>\n",
       "      <td>31</td>\n",
       "      <td>14</td>\n",
       "    </tr>\n",
       "    <tr>\n",
       "      <th>4</th>\n",
       "      <td>GHCND:USC00353402</td>\n",
       "      <td>GOVERNMENT CAMP OR US</td>\n",
       "      <td>20130105</td>\n",
       "      <td>0.00</td>\n",
       "      <td>41</td>\n",
       "      <td>0.0</td>\n",
       "      <td>37</td>\n",
       "      <td>28</td>\n",
       "    </tr>\n",
       "  </tbody>\n",
       "</table>\n",
       "</div>"
      ],
      "text/plain": [
       "             STATION           STATION_NAME      DATE  \\\n",
       "0  GHCND:USC00353402  GOVERNMENT CAMP OR US  20130101   \n",
       "1  GHCND:USC00353402  GOVERNMENT CAMP OR US  20130102   \n",
       "2  GHCND:USC00353402  GOVERNMENT CAMP OR US  20130103   \n",
       "3  GHCND:USC00353402  GOVERNMENT CAMP OR US  20130104   \n",
       "4  GHCND:USC00353402  GOVERNMENT CAMP OR US  20130105   \n",
       "\n",
       "   Precipitation\\n(inches)  Snow Depth\\n(inches)  Snowfall\\n(inches)  \\\n",
       "0                     0.00                    44                 0.0   \n",
       "1                     0.01                    42                 0.0   \n",
       "2                     0.00                    42                 0.0   \n",
       "3                     0.16                    41                 0.0   \n",
       "4                     0.00                    41                 0.0   \n",
       "\n",
       "   Max Temp (°F)  Min Temp (°F)  \n",
       "0             29             12  \n",
       "1             27             11  \n",
       "2             20             12  \n",
       "3             31             14  \n",
       "4             37             28  "
      ]
     },
     "execution_count": 4,
     "metadata": {},
     "output_type": "execute_result"
    }
   ],
   "source": [
    "df = pd.read_excel('govt_camp_2013_01_to_2016_03.xlsx')\n",
    "df.head()"
   ]
  },
  {
   "cell_type": "code",
   "execution_count": 5,
   "metadata": {},
   "outputs": [
    {
     "name": "stdout",
     "output_type": "stream",
     "text": [
      "(1186, 8)\n"
     ]
    },
    {
     "data": {
      "text/html": [
       "<div>\n",
       "<style scoped>\n",
       "    .dataframe tbody tr th:only-of-type {\n",
       "        vertical-align: middle;\n",
       "    }\n",
       "\n",
       "    .dataframe tbody tr th {\n",
       "        vertical-align: top;\n",
       "    }\n",
       "\n",
       "    .dataframe thead th {\n",
       "        text-align: right;\n",
       "    }\n",
       "</style>\n",
       "<table border=\"1\" class=\"dataframe\">\n",
       "  <thead>\n",
       "    <tr style=\"text-align: right;\">\n",
       "      <th></th>\n",
       "      <th>year</th>\n",
       "      <th>month</th>\n",
       "      <th>day</th>\n",
       "      <th>Precipitation\n",
       "(inches)</th>\n",
       "      <th>Snow Depth\n",
       "(inches)</th>\n",
       "      <th>Snowfall\n",
       "(inches)</th>\n",
       "      <th>Max Temp (°F)</th>\n",
       "      <th>Min Temp (°F)</th>\n",
       "    </tr>\n",
       "  </thead>\n",
       "  <tbody>\n",
       "    <tr>\n",
       "      <th>0</th>\n",
       "      <td>2013</td>\n",
       "      <td>1</td>\n",
       "      <td>1</td>\n",
       "      <td>0.00</td>\n",
       "      <td>44</td>\n",
       "      <td>0.0</td>\n",
       "      <td>29</td>\n",
       "      <td>12</td>\n",
       "    </tr>\n",
       "    <tr>\n",
       "      <th>1</th>\n",
       "      <td>2013</td>\n",
       "      <td>1</td>\n",
       "      <td>2</td>\n",
       "      <td>0.01</td>\n",
       "      <td>42</td>\n",
       "      <td>0.0</td>\n",
       "      <td>27</td>\n",
       "      <td>11</td>\n",
       "    </tr>\n",
       "    <tr>\n",
       "      <th>2</th>\n",
       "      <td>2013</td>\n",
       "      <td>1</td>\n",
       "      <td>3</td>\n",
       "      <td>0.00</td>\n",
       "      <td>42</td>\n",
       "      <td>0.0</td>\n",
       "      <td>20</td>\n",
       "      <td>12</td>\n",
       "    </tr>\n",
       "    <tr>\n",
       "      <th>3</th>\n",
       "      <td>2013</td>\n",
       "      <td>1</td>\n",
       "      <td>4</td>\n",
       "      <td>0.16</td>\n",
       "      <td>41</td>\n",
       "      <td>0.0</td>\n",
       "      <td>31</td>\n",
       "      <td>14</td>\n",
       "    </tr>\n",
       "    <tr>\n",
       "      <th>4</th>\n",
       "      <td>2013</td>\n",
       "      <td>1</td>\n",
       "      <td>5</td>\n",
       "      <td>0.00</td>\n",
       "      <td>41</td>\n",
       "      <td>0.0</td>\n",
       "      <td>37</td>\n",
       "      <td>28</td>\n",
       "    </tr>\n",
       "  </tbody>\n",
       "</table>\n",
       "</div>"
      ],
      "text/plain": [
       "   year  month  day  Precipitation\\n(inches)  Snow Depth\\n(inches)  \\\n",
       "0  2013      1    1                     0.00                    44   \n",
       "1  2013      1    2                     0.01                    42   \n",
       "2  2013      1    3                     0.00                    42   \n",
       "3  2013      1    4                     0.16                    41   \n",
       "4  2013      1    5                     0.00                    41   \n",
       "\n",
       "   Snowfall\\n(inches)  Max Temp (°F)  Min Temp (°F)  \n",
       "0                 0.0             29             12  \n",
       "1                 0.0             27             11  \n",
       "2                 0.0             20             12  \n",
       "3                 0.0             31             14  \n",
       "4                 0.0             37             28  "
      ]
     },
     "execution_count": 5,
     "metadata": {},
     "output_type": "execute_result"
    }
   ],
   "source": [
    "df = pd.read_excel('govt_camp_2013_01_to_2016_03.xlsx')\n",
    "df['DATE'] = pd.to_datetime(df['DATE'], format='%Y%m%d')\n",
    "df.insert(0, 'year', pd.DatetimeIndex(df['DATE']).year)\n",
    "df.insert(1, 'month', pd.DatetimeIndex(df['DATE']).month)\n",
    "df.insert(2, 'day', pd.DatetimeIndex(df['DATE']).day)\n",
    "df.drop(['DATE'],axis=1,inplace=True)\n",
    "df.drop(['STATION','STATION_NAME'], axis=1, inplace=True)\n",
    "print(df.shape)\n",
    "df.head()\n",
    "#df.tail()"
   ]
  },
  {
   "cell_type": "code",
   "execution_count": 6,
   "metadata": {},
   "outputs": [
    {
     "name": "stdout",
     "output_type": "stream",
     "text": [
      "(1186, 8)\n"
     ]
    }
   ],
   "source": [
    "wd = np.array(df)\n",
    "print(wd.shape)"
   ]
  },
  {
   "cell_type": "markdown",
   "metadata": {},
   "source": [
    "### Build 4 subplots, one year of data for each subplot"
   ]
  },
  {
   "cell_type": "code",
   "execution_count": 7,
   "metadata": {},
   "outputs": [
    {
     "data": {
      "image/png": "[encoded data removed]",
      "text/plain": [
       "<Figure size 648x648 with 4 Axes>"
      ]
     },
     "metadata": {
      "needs_background": "light"
     },
     "output_type": "display_data"
    }
   ],
   "source": [
    "# Create the data, an array of precipitation in inches for each of the 4 years: 2013, 2014, 2015, 2016\n",
    "mask2013 = wd[:,0]==2013\n",
    "mask2014 = wd[:,0]==2014\n",
    "precip = wd[:,3]\n",
    "precip2013 = precip[mask2013]\n",
    "precip2014 = precip[mask2014]\n",
    "\n",
    "\n",
    "# fig, ax1, ax2, ax3, ax4 using plt.subplots and specify a larger figure size\n",
    "fig, (ax1, ax2, ax3, ax4) = plt.subplots(nrows=4, ncols=1, figsize=(9,9))\n",
    "\n",
    "# Plot the data and customize\n",
    "ax1.plot(precip2013)\n",
    "ax1.set_title('2013 Precipitation Data')\n",
    "\n",
    "ax2.plot(precip2014)\n",
    "ax2.set_title('2014 Prcipitation Data')\n",
    "\n",
    "# show the plots\n",
    "plt.tight_layout()\n",
    "plt.show()"
   ]
  },
  {
   "cell_type": "code",
   "execution_count": null,
   "metadata": {},
   "outputs": [],
   "source": []
  }
 ],
 "metadata": {
  "kernelspec": {
   "display_name": "Python 3",
   "language": "python",
   "name": "python3"
  },
  "language_info": {
   "codemirror_mode": {
    "name": "ipython",
    "version": 3
   },
   "file_extension": ".py",
   "mimetype": "text/x-python",
   "name": "python",
   "nbconvert_exporter": "python",
   "pygments_lexer": "ipython3",
   "version": "3.7.0"
  }
 },
 "nbformat": 4,
 "nbformat_minor": 2
}
