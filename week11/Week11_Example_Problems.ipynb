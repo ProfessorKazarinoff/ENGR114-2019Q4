{
 "cells": [
  {
   "cell_type": "markdown",
   "metadata": {},
   "source": [
    "# Week 11 Example Problems"
   ]
  },
  {
   "cell_type": "markdown",
   "metadata": {},
   "source": [
    "## Example 1: Calcuate college savings"
   ]
  },
  {
   "cell_type": "code",
   "execution_count": 1,
   "metadata": {},
   "outputs": [
    {
     "data": {
      "image/png": "[encoded data removed]",
      "text/plain": [
       "<Figure size 432x288 with 1 Axes>"
      ]
     },
     "metadata": {
      "needs_background": "light"
     },
     "output_type": "display_data"
    },
    {
     "name": "stdout",
     "output_type": "stream",
     "text": [
      "After 18 years, you saved: $41672.09\n"
     ]
    }
   ],
   "source": [
    "# imports\n",
    "import matplotlib.pyplot as plt\n",
    "%matplotlib inline\n",
    "\n",
    "# $1000 into the fund\n",
    "o_bal = 1000\n",
    "bal_lst = [1000]\n",
    "# for loop to calculate the balance after 18 years\n",
    "for i in range(18*12):    # 18 years x 12 months/year, calculate the balance each month\n",
    "    # new balance is dependant on the old balance\n",
    "    interest = 0.005*o_bal\n",
    "    n_bal = o_bal + interest + 100\n",
    "    bal_lst.append(n_bal)\n",
    "    o_bal = n_bal\n",
    "    \n",
    "# plot the fund balance over time\n",
    "\n",
    "# create ax and fig objects\n",
    "fig, ax = plt.subplots()\n",
    "\n",
    "# add data to the the plot\n",
    "ax.plot(bal_lst)\n",
    "\n",
    "# customize the plot\n",
    "ax.set_xlabel(\"Month's Saved (no. of months)\")\n",
    "ax.set_ylabel(\"Amount Saved ($)\")\n",
    "ax.set_title(\"College Savings over 18 years\")\n",
    "\n",
    "# show the plot\n",
    "plt.show()\n",
    "\n",
    "# print out to the user how much they saved in 18 years\n",
    "#f_bal = n_bal\n",
    "f_bal = bal_lst[-1]  # last value in the balance list\n",
    "print(f'After 18 years, you saved: ${round(f_bal,2)}')"
   ]
  },
  {
   "cell_type": "markdown",
   "metadata": {},
   "source": [
    "## Example Write a program to approximate e"
   ]
  },
  {
   "cell_type": "code",
   "execution_count": 2,
   "metadata": {},
   "outputs": [
    {
     "name": "stdout",
     "output_type": "stream",
     "text": [
      "e^x approx : 2.6315789473684212\n",
      "e^x using exp(): 2.718281828459045\n",
      "the difference between the two is: 0.08670288109062385\n"
     ]
    }
   ],
   "source": [
    "# imports\n",
    "from math import exp\n",
    "import numpy as np\n",
    "\n",
    "# set K\n",
    "K = 100\n",
    "\n",
    "# call the eapprox function\n",
    "def eapprox(K):\n",
    "    J = 0\n",
    "    rand_num_lst = np.random.randint(1,K+1,K)\n",
    "    for i in range(1,K+1):\n",
    "        if not i in rand_num_lst:\n",
    "            J = J + 1\n",
    "    out = K/J\n",
    "    return out\n",
    "approx = eapprox(K)\n",
    "# print diff to exp() function\n",
    "print(f'e^x approx : {approx}')\n",
    "print(f'e^x using exp(): {exp(1)}')\n",
    "diff = abs(approx - exp(1))\n",
    "print(f'the difference between the two is: {diff}')\n",
    "\n"
   ]
  },
  {
   "cell_type": "code",
   "execution_count": 3,
   "metadata": {},
   "outputs": [
    {
     "name": "stdout",
     "output_type": "stream",
     "text": [
      " Volume in drive C is Windows\n",
      " Volume Serial Number is B899-AB94\n",
      "\n",
      " Directory of C:\\Users\\student\\Desktop\n",
      "\n",
      "12/03/2019  03:16 PM    <DIR>          .\n",
      "12/03/2019  03:16 PM    <DIR>          ..\n",
      "12/03/2019  02:20 PM    <DIR>          .ipynb_checkpoints\n",
      "12/03/2019  03:11 PM    <DIR>          __pycache__\n",
      "12/03/2019  02:01 PM    <DIR>          ENGR114\n",
      "12/03/2019  01:58 PM             2,505 Homework_Problem_Example.ipynb\n",
      "12/03/2019  01:09 PM             1,457 Kaltura Capture.lnk\n",
      "05/13/2016  12:33 PM               210 MSDS Online.url\n",
      "12/03/2019  03:10 PM               204 myfuncs.py\n",
      "08/01/2018  03:14 PM    <DIR>          Safety Information\n",
      "12/03/2019  03:16 PM            24,812 Week11_Example_Problems.ipynb\n",
      "               5 File(s)         29,188 bytes\n",
      "               6 Dir(s)  320,354,070,528 bytes free\n"
     ]
    }
   ],
   "source": [
    "%ls"
   ]
  },
  {
   "cell_type": "code",
   "execution_count": 4,
   "metadata": {},
   "outputs": [
    {
     "name": "stdout",
     "output_type": "stream",
     "text": [
      "e^x approx : 2.6315789473684212\n",
      "e^x using exp(): 2.718281828459045\n",
      "the difference between the two is: 0.08670288109062385\n"
     ]
    }
   ],
   "source": [
    "# define the function in seperate file and call the function from the notebook\n",
    "\n",
    "# imports\n",
    "from math import exp\n",
    "import numpy as np\n",
    "from myfuncs import eapprox\n",
    "\n",
    "# set K\n",
    "K = 100\n",
    "\n",
    "# call the eapprox function\n",
    "\n",
    "approx = eapprox(K)\n",
    "# print diff to exp() function\n",
    "print(f'e^x approx : {approx}')\n",
    "print(f'e^x using exp(): {exp(1)}')\n",
    "diff = abs(approx - exp(1))\n",
    "print(f'the difference between the two is: {diff}')"
   ]
  },
  {
   "cell_type": "code",
   "execution_count": null,
   "metadata": {},
   "outputs": [],
   "source": []
  }
 ],
 "metadata": {
  "kernelspec": {
   "display_name": "Python 3",
   "language": "python",
   "name": "python3"
  },
  "language_info": {
   "codemirror_mode": {
    "name": "ipython",
    "version": 3
   },
   "file_extension": ".py",
   "mimetype": "text/x-python",
   "name": "python",
   "nbconvert_exporter": "python",
   "pygments_lexer": "ipython3",
   "version": "3.7.0"
  }
 },
 "nbformat": 4,
 "nbformat_minor": 2
}
