{
 "cells": [
  {
   "cell_type": "markdown",
   "metadata": {},
   "source": [
    "# Example Homework Problem"
   ]
  },
  {
   "cell_type": "markdown",
   "metadata": {},
   "source": [
    "Identify the error in the code below, rewrite the code to run error-free\n",
    "\n",
    "```\n",
    "n = [1 2 3]\n",
    "for n[1] == 2:\n",
    "    n = n + 1\n",
    "end\n",
    "```"
   ]
  },
  {
   "cell_type": "markdown",
   "metadata": {},
   "source": [
    "## Errors\n",
    "\n",
    " * In the line ```n = [1 2 3]```, lists in Python have elements seperated by commas and spaces are used in the code instead\n",
    " * ```n[1]``` can not index out element at index 1, because ```n``` is not a list\n",
    " * ```n[1] == 2``` is a logical statement, not an interable. For loops are defined by iterables that run a specific number of times\n",
    " * ```n = n + 1``` will not run if ```n``` is defined as a list. Can't add ```1``` to a list, ```n.append()``` needs to be used instead\n",
    " * ```end``` is not a keyword in Python. The code that runs as part of a for loop is defined using indentation"
   ]
  },
  {
   "cell_type": "markdown",
   "metadata": {},
   "source": [
    "## Fix the errors and run the code error-free"
   ]
  },
  {
   "cell_type": "code",
   "execution_count": 6,
   "metadata": {},
   "outputs": [
    {
     "name": "stdout",
     "output_type": "stream",
     "text": [
      "[2, 3, 4]\n"
     ]
    }
   ],
   "source": [
    "n = [1, 2, 3]\n",
    "for i in range(3):\n",
    "    n[i] = n[i] + 1\n",
    "print(n)"
   ]
  },
  {
   "cell_type": "code",
   "execution_count": 7,
   "metadata": {},
   "outputs": [
    {
     "name": "stdout",
     "output_type": "stream",
     "text": [
      "[1, 2, 3, 2, 3, 2, 3, 2, 3, 2]\n"
     ]
    }
   ],
   "source": [
    "n = [1, 2, 3]\n",
    "for i in n:\n",
    "    n.append(n[i])\n",
    "    if len(n)==10:\n",
    "        break\n",
    "print(n)"
   ]
  },
  {
   "cell_type": "code",
   "execution_count": null,
   "metadata": {},
   "outputs": [],
   "source": []
  }
 ],
 "metadata": {
  "kernelspec": {
   "display_name": "Python 3",
   "language": "python",
   "name": "python3"
  },
  "language_info": {
   "codemirror_mode": {
    "name": "ipython",
    "version": 3
   },
   "file_extension": ".py",
   "mimetype": "text/x-python",
   "name": "python",
   "nbconvert_exporter": "python",
   "pygments_lexer": "ipython3",
   "version": "3.7.4"
  }
 },
 "nbformat": 4,
 "nbformat_minor": 2
}
