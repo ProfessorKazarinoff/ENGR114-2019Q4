{
 "cells": [
  {
   "cell_type": "markdown",
   "metadata": {},
   "source": [
    "# Week 11 Exam 2 Practice Problems"
   ]
  },
  {
   "cell_type": "markdown",
   "metadata": {},
   "source": [
    "## College Savings Problem"
   ]
  },
  {
   "cell_type": "code",
   "execution_count": 1,
   "metadata": {},
   "outputs": [
    {
     "data": {
      "image/png": "[encoded data removed]",
      "text/plain": [
       "<Figure size 432x288 with 1 Axes>"
      ]
     },
     "metadata": {
      "needs_background": "light"
     },
     "output_type": "display_data"
    },
    {
     "name": "stdout",
     "output_type": "stream",
     "text": [
      "After 18 years, you saved $41672.09\n"
     ]
    }
   ],
   "source": [
    "import numpy as np\n",
    "import matplotlib.pyplot as plt\n",
    "%matplotlib inline\n",
    "\n",
    "bal = 1000\n",
    "bal_array = np.zeros(18*12+1)\n",
    "for i in range(18*12):\n",
    "    n_bal = bal + 0.005*bal + 100\n",
    "    bal_array[i+1]=n_bal\n",
    "    bal = n_bal\n",
    "    \n",
    "fig, ax = plt.subplots()\n",
    "ax.plot(bal_array)\n",
    "ax.set_title(\"College savings over 18 years vs. # months saved\")\n",
    "ax.set_ylabel(\"Amount Saved ($)\")\n",
    "ax.set_xlabel(\"Number of Months (#)\")\n",
    "plt.show()\n",
    "\n",
    "# tell the user how much they saved after 18 years\n",
    "sav = bal_array[-1]  # index out the last value from the array\n",
    "print(f\"After 18 years, you saved ${round(sav,2)}\")"
   ]
  },
  {
   "cell_type": "markdown",
   "metadata": {},
   "source": [
    "## Example 2: approximation of e"
   ]
  },
  {
   "cell_type": "code",
   "execution_count": 2,
   "metadata": {},
   "outputs": [],
   "source": [
    "# Prototype the function in a Jupyter notebook code cell\n",
    "\n",
    "import numpy as np\n",
    "\n",
    "# prototype out the function to approximate e\n",
    "def eapprox(K):\n",
    "    k_array = np.random.randint(1,K+1,K)\n",
    "    J=0\n",
    "    for i in range(1,K+1):\n",
    "        if not (i in k_array):\n",
    "            J = J + 1\n",
    "    e = K/J\n",
    "    return e"
   ]
  },
  {
   "cell_type": "code",
   "execution_count": 3,
   "metadata": {},
   "outputs": [
    {
     "data": {
      "text/plain": [
       "array([5, 3, 3, 1, 1])"
      ]
     },
     "execution_count": 3,
     "metadata": {},
     "output_type": "execute_result"
    }
   ],
   "source": [
    "# See how NumPy's np.random.randint() function works\n",
    "import numpy as np\n",
    "np.random.randint(1,6,5)"
   ]
  },
  {
   "cell_type": "code",
   "execution_count": 4,
   "metadata": {},
   "outputs": [
    {
     "data": {
      "text/plain": [
       "2.711570270343556"
      ]
     },
     "execution_count": 4,
     "metadata": {},
     "output_type": "execute_result"
    }
   ],
   "source": [
    "# make sure the prototype function can be called in a Jupyter notebook\n",
    "eapprox(100000)"
   ]
  },
  {
   "cell_type": "code",
   "execution_count": 5,
   "metadata": {},
   "outputs": [
    {
     "name": "stdout",
     "output_type": "stream",
     "text": [
      " Volume in drive C is Windows\n",
      " Volume Serial Number is B899-AB94\n",
      "\n",
      " Directory of C:\\Users\\student\\Desktop\n",
      "\n",
      "12/02/2019  11:44 AM    <DIR>          .\n",
      "12/02/2019  11:44 AM    <DIR>          ..\n",
      "12/02/2019  10:11 AM    <DIR>          .ipynb_checkpoints\n",
      "12/02/2019  11:07 AM    <DIR>          __pycache__\n",
      "12/02/2019  09:50 AM             2,502 HW_Problem_Example.ipynb\n",
      "12/02/2019  11:22 AM             1,457 Kaltura Capture.lnk\n",
      "05/13/2016  12:33 PM               210 MSDS Online.url\n",
      "12/02/2019  11:06 AM               249 myfunc.py\n",
      "08/01/2018  03:14 PM    <DIR>          Safety Information\n",
      "12/02/2019  11:44 AM            23,672 Week11_Exam2_Practice_Problems.ipynb\n",
      "               5 File(s)         28,090 bytes\n",
      "               5 Dir(s)  320,424,710,144 bytes free\n"
     ]
    }
   ],
   "source": [
    "# make sure the myfunc.py file is in the same directory as the running notebook\n",
    "%ls"
   ]
  },
  {
   "cell_type": "code",
   "execution_count": 6,
   "metadata": {},
   "outputs": [
    {
     "data": {
      "text/plain": [
       "2.380952380952381"
      ]
     },
     "execution_count": 6,
     "metadata": {},
     "output_type": "execute_result"
    }
   ],
   "source": [
    "# Make sure the function can be imported from the myfuncs.py file\n",
    "\n",
    "from myfunc import eapprox\n",
    "eapprox(100)"
   ]
  },
  {
   "cell_type": "code",
   "execution_count": 7,
   "metadata": {},
   "outputs": [
    {
     "name": "stdout",
     "output_type": "stream",
     "text": [
      "The approximation of e is: 5.0 and the error is 2.28172\n"
     ]
    }
   ],
   "source": [
    "# The Finished Program\n",
    "\n",
    "from math import exp\n",
    "from myfunc import eapprox\n",
    "\n",
    "# pick a number for k\n",
    "k = 5\n",
    "# call the eapprox function that runs a loop to calcaluate e\n",
    "approx = eapprox(k)\n",
    "# use Python's exp() function to calculate e\n",
    "exact = exp(1)\n",
    "# print out the approximation of e and the difference between\n",
    "# the approximation and exp()\n",
    "error = abs(approx-exact)\n",
    "print(f\"The approximation of e is: {approx} and the error is {round(error,5)}\")\n"
   ]
  },
  {
   "cell_type": "code",
   "execution_count": null,
   "metadata": {},
   "outputs": [],
   "source": []
  }
 ],
 "metadata": {
  "kernelspec": {
   "display_name": "Python 3",
   "language": "python",
   "name": "python3"
  },
  "language_info": {
   "codemirror_mode": {
    "name": "ipython",
    "version": 3
   },
   "file_extension": ".py",
   "mimetype": "text/x-python",
   "name": "python",
   "nbconvert_exporter": "python",
   "pygments_lexer": "ipython3",
   "version": "3.7.4"
  }
 },
 "nbformat": 4,
 "nbformat_minor": 2
}
