{
 "cells": [
  {
   "cell_type": "markdown",
   "metadata": {},
   "source": [
    "# Convert a Recipe to metric units"
   ]
  },
  {
   "cell_type": "code",
   "execution_count": 2,
   "metadata": {},
   "outputs": [],
   "source": [
    "# Blueberry muffins\n",
    "\n",
    "# 1/2 teaspoon salt"
   ]
  },
  {
   "cell_type": "code",
   "execution_count": 4,
   "metadata": {},
   "outputs": [],
   "source": [
    "def ts_to_ml(ts):\n",
    "    \"\"\"\n",
    "    ts_to_ml() is a function to convert teaspoons into milliliters\n",
    "    input number of teaspoons: int or float\n",
    "    output number of milliliters: int or float\n",
    "    \n",
    "    example:\n",
    "    \n",
    "        ts_to_ml(0.5)\n",
    "        \n",
    "        2.46446\n",
    "    \n",
    "    \"\"\"\n",
    "    ml = ts*4.92892\n",
    "    return ml"
   ]
  },
  {
   "cell_type": "code",
   "execution_count": 5,
   "metadata": {},
   "outputs": [
    {
     "data": {
      "text/plain": [
       "2.46446"
      ]
     },
     "execution_count": 5,
     "metadata": {},
     "output_type": "execute_result"
    }
   ],
   "source": [
    "ts_to_ml(0.5)"
   ]
  },
  {
   "cell_type": "code",
   "execution_count": 7,
   "metadata": {},
   "outputs": [
    {
     "name": "stdout",
     "output_type": "stream",
     "text": [
      "mL salt: 2.5\n"
     ]
    }
   ],
   "source": [
    "ml_salt = ts_to_ml(0.5)\n",
    "print(f'mL salt: {round(ml_salt,1)}')"
   ]
  },
  {
   "cell_type": "code",
   "execution_count": null,
   "metadata": {},
   "outputs": [],
   "source": []
  }
 ],
 "metadata": {
  "kernelspec": {
   "display_name": "Python 3",
   "language": "python",
   "name": "python3"
  },
  "language_info": {
   "codemirror_mode": {
    "name": "ipython",
    "version": 3
   },
   "file_extension": ".py",
   "mimetype": "text/x-python",
   "name": "python",
   "nbconvert_exporter": "python",
   "pygments_lexer": "ipython3",
   "version": "3.7.0"
  }
 },
 "nbformat": 4,
 "nbformat_minor": 2
}
