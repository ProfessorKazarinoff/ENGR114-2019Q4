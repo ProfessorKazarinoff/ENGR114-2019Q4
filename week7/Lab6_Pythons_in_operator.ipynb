{
 "cells": [
  {
   "cell_type": "markdown",
   "metadata": {},
   "source": [
    "# Lab 6 Intro Notes - Python's _in_ operator"
   ]
  },
  {
   "cell_type": "code",
   "execution_count": 2,
   "metadata": {},
   "outputs": [
    {
     "name": "stdout",
     "output_type": "stream",
     "text": [
      "Color map options are: greys, terrain, ocean, gist_earth\n",
      "\n",
      "Enter your desired colormap: terrain\n",
      "terrain\n",
      "Do you want gridlines? no\n",
      "False\n"
     ]
    }
   ],
   "source": [
    "#import time\n",
    "print('Color map options are: greys, terrain, ocean, gist_earth')\n",
    "#time.sleep(0.1)\n",
    "print()\n",
    "u_cmap = input('Enter your desired colormap: ')\n",
    "if u_cmap in ['greys','Greys','grays','Grays','Gr']:\n",
    "    cmap = 'Greys'\n",
    "elif u_cmap in ['terrain','Terrrain']:\n",
    "    cmap = 'terrain'\n",
    "elif u_cmap == 'ocean':\n",
    "    cmap = 'ocean'\n",
    "else:\n",
    "    cmap = 'gist_earth'\n",
    "    \n",
    "print(cmap)\n",
    "\n",
    "u_grid = input('Do you want gridlines? ')\n",
    "yes_list = ['yes','Yes','y','Y']\n",
    "if u_grid in yes_list:\n",
    "    grid = True\n",
    "elif u_grid == 'no':\n",
    "    grid = False\n",
    "\n",
    "print(grid)"
   ]
  },
  {
   "cell_type": "code",
   "execution_count": null,
   "metadata": {},
   "outputs": [],
   "source": []
  },
  {
   "cell_type": "code",
   "execution_count": null,
   "metadata": {},
   "outputs": [],
   "source": []
  }
 ],
 "metadata": {
  "kernelspec": {
   "display_name": "Python 3",
   "language": "python",
   "name": "python3"
  },
  "language_info": {
   "codemirror_mode": {
    "name": "ipython",
    "version": 3
   },
   "file_extension": ".py",
   "mimetype": "text/x-python",
   "name": "python",
   "nbconvert_exporter": "python",
   "pygments_lexer": "ipython3",
   "version": "3.7.0"
  }
 },
 "nbformat": 4,
 "nbformat_minor": 2
}
