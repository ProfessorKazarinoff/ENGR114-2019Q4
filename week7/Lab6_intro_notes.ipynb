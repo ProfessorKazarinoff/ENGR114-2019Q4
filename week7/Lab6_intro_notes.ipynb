{
 "cells": [
  {
   "cell_type": "markdown",
   "metadata": {},
   "source": [
    "# Lab 6 Intro Notes: Using Python's _in_ operator"
   ]
  },
  {
   "cell_type": "code",
   "execution_count": 9,
   "metadata": {},
   "outputs": [
    {
     "name": "stdout",
     "output_type": "stream",
     "text": [
      "Your color map options are: Greys, gist_earth, ocean or terrain\n",
      "Please select a color map: gist\n",
      "gist_earth\n"
     ]
    }
   ],
   "source": [
    "print('Your color map options are: Greys, gist_earth, ocean or terrain')\n",
    "color_map = input('Please select a color map: ')\n",
    "\n",
    "if color_map in ['Greys','greys','Grays','grays','grey','gray','gr']:\n",
    "    cmap_arg = 'Greys'\n",
    "elif color_map in ['gist','gist_earth','gistearth','earth']:\n",
    "    cmap_arg = 'gist_earth'\n",
    "    \n",
    "print(cmap_arg)"
   ]
  },
  {
   "cell_type": "code",
   "execution_count": null,
   "metadata": {},
   "outputs": [],
   "source": []
  }
 ],
 "metadata": {
  "kernelspec": {
   "display_name": "Python 3",
   "language": "python",
   "name": "python3"
  },
  "language_info": {
   "codemirror_mode": {
    "name": "ipython",
    "version": 3
   },
   "file_extension": ".py",
   "mimetype": "text/x-python",
   "name": "python",
   "nbconvert_exporter": "python",
   "pygments_lexer": "ipython3",
   "version": "3.7.0"
  }
 },
 "nbformat": 4,
 "nbformat_minor": 2
}
