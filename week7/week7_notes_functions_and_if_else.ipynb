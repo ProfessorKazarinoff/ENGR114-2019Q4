{
 "cells": [
  {
   "cell_type": "markdown",
   "metadata": {},
   "source": [
    "# Week 7 Notes - Review of Functions and if / else / elif"
   ]
  },
  {
   "cell_type": "code",
   "execution_count": 1,
   "metadata": {},
   "outputs": [
    {
     "name": "stdout",
     "output_type": "stream",
     "text": [
      " Volume in drive C is Windows\n",
      " Volume Serial Number is B899-AB94\n",
      "\n",
      " Directory of C:\\Users\\student\\Desktop\n",
      "\n",
      "11/04/2019  11:24 AM    <DIR>          .\n",
      "11/04/2019  11:24 AM    <DIR>          ..\n",
      "11/04/2019  09:10 AM    <DIR>          .ipynb_checkpoints\n",
      "11/04/2019  09:27 AM    <DIR>          __pycache__\n",
      "11/04/2019  09:42 AM               427 ask_user_rect.py\n",
      "11/04/2019  09:02 AM             1,457 Kaltura Capture.lnk\n",
      "05/13/2016  12:33 PM               210 MSDS Online.url\n",
      "08/01/2018  03:14 PM    <DIR>          Safety Information\n",
      "11/04/2019  09:26 AM               778 week7_funcs.py\n",
      "11/04/2019  11:24 AM            25,517 week7_notes_functions_and_if_else.ipynb\n",
      "               5 File(s)         28,389 bytes\n",
      "               5 Dir(s)  320,371,261,440 bytes free\n"
     ]
    }
   ],
   "source": [
    "%ls"
   ]
  },
  {
   "cell_type": "code",
   "execution_count": 2,
   "metadata": {},
   "outputs": [
    {
     "data": {
      "text/plain": [
       "3.141592653589793"
      ]
     },
     "execution_count": 2,
     "metadata": {},
     "output_type": "execute_result"
    }
   ],
   "source": [
    "from week7_funcs import cyl_vol\n",
    "\n",
    "cyl_vol(2,1)"
   ]
  },
  {
   "cell_type": "code",
   "execution_count": 3,
   "metadata": {},
   "outputs": [
    {
     "data": {
      "text/plain": [
       "3.141592653589793"
      ]
     },
     "execution_count": 3,
     "metadata": {},
     "output_type": "execute_result"
    }
   ],
   "source": [
    "import week7_funcs\n",
    "\n",
    "week7_funcs.cyl_vol(2,1)"
   ]
  },
  {
   "cell_type": "code",
   "execution_count": 4,
   "metadata": {},
   "outputs": [
    {
     "ename": "TypeError",
     "evalue": "cyl_vol() missing 1 required positional argument: 'h'",
     "output_type": "error",
     "traceback": [
      "\u001b[1;31m---------------------------------------------------------------------------\u001b[0m",
      "\u001b[1;31mTypeError\u001b[0m                                 Traceback (most recent call last)",
      "\u001b[1;32m<ipython-input-4-ac4a88808dc8>\u001b[0m in \u001b[0;36m<module>\u001b[1;34m()\u001b[0m\n\u001b[0;32m      3\u001b[0m \u001b[1;32mfrom\u001b[0m \u001b[0mweek7_funcs\u001b[0m \u001b[1;32mimport\u001b[0m \u001b[0mcyl_vol\u001b[0m\u001b[1;33m\u001b[0m\u001b[0m\n\u001b[0;32m      4\u001b[0m \u001b[1;33m\u001b[0m\u001b[0m\n\u001b[1;32m----> 5\u001b[1;33m \u001b[0mcyl_vol\u001b[0m\u001b[1;33m(\u001b[0m\u001b[0margs_lst\u001b[0m\u001b[1;33m)\u001b[0m  \u001b[1;31m# list args_list is only one object, the function requires 2 arguments\u001b[0m\u001b[1;33m\u001b[0m\u001b[0m\n\u001b[0m",
      "\u001b[1;31mTypeError\u001b[0m: cyl_vol() missing 1 required positional argument: 'h'"
     ]
    }
   ],
   "source": [
    "args_lst = [2,1]\n",
    "\n",
    "from week7_funcs import cyl_vol\n",
    "\n",
    "cyl_vol(args_lst)  # list args_list is only one object, the function requires 2 arguments"
   ]
  },
  {
   "cell_type": "code",
   "execution_count": 5,
   "metadata": {
    "scrolled": true
   },
   "outputs": [
    {
     "data": {
      "text/plain": [
       "3.141592653589793"
      ]
     },
     "execution_count": 5,
     "metadata": {},
     "output_type": "execute_result"
    }
   ],
   "source": [
    "args_lst = [2,1]\n",
    "\n",
    "from week7_funcs import cyl_vol\n",
    "\n",
    "cyl_vol(*args_lst)  #* at the front of the list, unpacks the list as seperate arguments"
   ]
  },
  {
   "cell_type": "code",
   "execution_count": 6,
   "metadata": {},
   "outputs": [
    {
     "data": {
      "text/plain": [
       "50"
      ]
     },
     "execution_count": 6,
     "metadata": {},
     "output_type": "execute_result"
    }
   ],
   "source": [
    "from week7_funcs import rect_area\n",
    "\n",
    "rect_area(base=5, height=10)"
   ]
  },
  {
   "cell_type": "code",
   "execution_count": 7,
   "metadata": {},
   "outputs": [
    {
     "data": {
      "text/plain": [
       "1"
      ]
     },
     "execution_count": 7,
     "metadata": {},
     "output_type": "execute_result"
    }
   ],
   "source": [
    "from week7_funcs import rect_area\n",
    "\n",
    "rect_area()   # use the defaults"
   ]
  },
  {
   "cell_type": "code",
   "execution_count": 8,
   "metadata": {},
   "outputs": [
    {
     "ename": "TypeError",
     "evalue": "unsupported operand type(s) for *: 'dict' and 'int'",
     "output_type": "error",
     "traceback": [
      "\u001b[1;31m---------------------------------------------------------------------------\u001b[0m",
      "\u001b[1;31mTypeError\u001b[0m                                 Traceback (most recent call last)",
      "\u001b[1;32m<ipython-input-8-5f2df7c34142>\u001b[0m in \u001b[0;36m<module>\u001b[1;34m()\u001b[0m\n\u001b[0;32m      5\u001b[0m \u001b[0margs_dict\u001b[0m \u001b[1;33m=\u001b[0m \u001b[1;33m{\u001b[0m\u001b[1;34m'base'\u001b[0m\u001b[1;33m:\u001b[0m\u001b[1;36m5\u001b[0m\u001b[1;33m,\u001b[0m\u001b[1;34m'height'\u001b[0m\u001b[1;33m:\u001b[0m\u001b[1;36m10\u001b[0m\u001b[1;33m}\u001b[0m\u001b[1;33m\u001b[0m\u001b[0m\n\u001b[0;32m      6\u001b[0m \u001b[1;33m\u001b[0m\u001b[0m\n\u001b[1;32m----> 7\u001b[1;33m \u001b[0mrect_area\u001b[0m\u001b[1;33m(\u001b[0m\u001b[0margs_dict\u001b[0m\u001b[1;33m)\u001b[0m\u001b[1;33m\u001b[0m\u001b[0m\n\u001b[0m",
      "\u001b[1;32m~\\Desktop\\week7_funcs.py\u001b[0m in \u001b[0;36mrect_area\u001b[1;34m(base, height)\u001b[0m\n\u001b[0;32m     33\u001b[0m         \u001b[1;36m50\u001b[0m\u001b[1;33m\u001b[0m\u001b[0m\n\u001b[0;32m     34\u001b[0m     \"\"\"\n\u001b[1;32m---> 35\u001b[1;33m     \u001b[0marea\u001b[0m \u001b[1;33m=\u001b[0m \u001b[0mbase\u001b[0m\u001b[1;33m*\u001b[0m\u001b[0mheight\u001b[0m\u001b[1;33m\u001b[0m\u001b[0m\n\u001b[0m\u001b[0;32m     36\u001b[0m     \u001b[1;32mreturn\u001b[0m \u001b[0marea\u001b[0m\u001b[1;33m\u001b[0m\u001b[0m\n\u001b[0;32m     37\u001b[0m \u001b[1;33m\u001b[0m\u001b[0m\n",
      "\u001b[1;31mTypeError\u001b[0m: unsupported operand type(s) for *: 'dict' and 'int'"
     ]
    }
   ],
   "source": [
    "# create a dictionary of keys which are the keyword arguments and values which are \n",
    "# the values we want to pass as those keywords\n",
    "from week7_funcs import rect_area\n",
    "\n",
    "args_dict = {'base':5,'height':10}\n",
    "\n",
    "rect_area(args_dict)"
   ]
  },
  {
   "cell_type": "code",
   "execution_count": 9,
   "metadata": {},
   "outputs": [
    {
     "data": {
      "text/plain": [
       "50"
      ]
     },
     "execution_count": 9,
     "metadata": {},
     "output_type": "execute_result"
    }
   ],
   "source": [
    "# create a dictionary of keys which are the keyword arguments and values which are \n",
    "# the values we want to pass as those keywords\n",
    "from week7_funcs import rect_area\n",
    "\n",
    "args_dict = {'base':5,'height':10}\n",
    "\n",
    "rect_area(**args_dict) # unpack the dictionary keys and values as keywords and values to pass to pass to the function"
   ]
  },
  {
   "cell_type": "code",
   "execution_count": 10,
   "metadata": {},
   "outputs": [
    {
     "data": {
      "text/plain": [
       "50"
      ]
     },
     "execution_count": 10,
     "metadata": {},
     "output_type": "execute_result"
    }
   ],
   "source": [
    "from week7_funcs import rect_area\n",
    "\n",
    "args_dict = {'height':10,'base':5,}\n",
    "\n",
    "rect_area(**args_dict)"
   ]
  },
  {
   "cell_type": "code",
   "execution_count": 11,
   "metadata": {},
   "outputs": [
    {
     "data": {
      "text/plain": [
       "5"
      ]
     },
     "execution_count": 11,
     "metadata": {},
     "output_type": "execute_result"
    }
   ],
   "source": [
    "from week7_funcs import rect_area\n",
    "\n",
    "args_dict = {'base':5}\n",
    "\n",
    "rect_area(**args_dict)"
   ]
  },
  {
   "cell_type": "code",
   "execution_count": 12,
   "metadata": {},
   "outputs": [
    {
     "data": {
      "text/plain": [
       "10"
      ]
     },
     "execution_count": 12,
     "metadata": {},
     "output_type": "execute_result"
    }
   ],
   "source": [
    "from week7_funcs import rect_area\n",
    "\n",
    "args_dict = {'height':10}\n",
    "\n",
    "rect_area(**args_dict)"
   ]
  },
  {
   "cell_type": "code",
   "execution_count": 14,
   "metadata": {},
   "outputs": [
    {
     "name": "stdout",
     "output_type": "stream",
     "text": [
      "Base: 5\n",
      "Height: 10\n",
      "The area is: 50.0\n"
     ]
    }
   ],
   "source": [
    "from week7_funcs import rect_area\n",
    "\n",
    "# ask user for base and height\n",
    "b_str = input('Base: ')\n",
    "h_str = input('Height: ')\n",
    "# calculate the area of the rectangle\n",
    "b_flt = float(b_str)\n",
    "h_flt = float(h_str)\n",
    "a = rect_area(base=b_flt,height=h_flt)\n",
    "\n",
    "# print out the results to the user\n",
    "print(f'The area is: {round(a,1)}')"
   ]
  },
  {
   "cell_type": "code",
   "execution_count": 15,
   "metadata": {},
   "outputs": [
    {
     "name": "stdout",
     "output_type": "stream",
     "text": [
      " Volume in drive C is Windows\n",
      " Volume Serial Number is B899-AB94\n",
      "\n",
      " Directory of C:\\Users\\student\\Desktop\n",
      "\n",
      "11/04/2019  11:24 AM    <DIR>          .\n",
      "11/04/2019  11:24 AM    <DIR>          ..\n",
      "11/04/2019  09:10 AM    <DIR>          .ipynb_checkpoints\n",
      "11/04/2019  09:27 AM    <DIR>          __pycache__\n",
      "11/04/2019  09:42 AM               427 ask_user_rect.py\n",
      "11/04/2019  09:02 AM             1,457 Kaltura Capture.lnk\n",
      "05/13/2016  12:33 PM               210 MSDS Online.url\n",
      "08/01/2018  03:14 PM    <DIR>          Safety Information\n",
      "11/04/2019  09:26 AM               778 week7_funcs.py\n",
      "11/04/2019  11:24 AM            25,517 week7_notes_functions_and_if_else.ipynb\n",
      "               5 File(s)         28,389 bytes\n",
      "               5 Dir(s)  320,371,191,808 bytes free\n"
     ]
    }
   ],
   "source": [
    "%ls"
   ]
  },
  {
   "cell_type": "code",
   "execution_count": 16,
   "metadata": {},
   "outputs": [
    {
     "name": "stdout",
     "output_type": "stream",
     "text": [
      "Base: 5\n",
      "Height: 10\n",
      "The area is: 50.0\n"
     ]
    }
   ],
   "source": [
    "%run ask_user_rect.py"
   ]
  },
  {
   "cell_type": "code",
   "execution_count": 17,
   "metadata": {},
   "outputs": [
    {
     "name": "stdout",
     "output_type": "stream",
     "text": [
      "Enter a number: 5\n",
      "The number is: 5\n"
     ]
    }
   ],
   "source": [
    "# start\n",
    "\n",
    "# ask the user for a number\n",
    "num = input('Enter a number: ')\n",
    "\n",
    "# print the number back to the user\n",
    "print(f'The number is: {num}')\n",
    "\n",
    "# stop"
   ]
  },
  {
   "cell_type": "code",
   "execution_count": 18,
   "metadata": {},
   "outputs": [
    {
     "name": "stdout",
     "output_type": "stream",
     "text": [
      "Enter a number: 5\n",
      "num is +\n"
     ]
    }
   ],
   "source": [
    "# start\n",
    "\n",
    "# ask the user for a number\n",
    "num_str = input('Enter a number: ')\n",
    "num = float(num_str)\n",
    "# test is the number positive\n",
    "if num>0: \n",
    "    print(\"num is +\")\n",
    "# if positive, print \"num is +\"\n",
    "\n",
    "# if negative, print \"num is -\"\n",
    "if num<0:\n",
    "    print(\"num is -\")\n",
    "\n",
    "# end"
   ]
  },
  {
   "cell_type": "code",
   "execution_count": 19,
   "metadata": {},
   "outputs": [
    {
     "name": "stdout",
     "output_type": "stream",
     "text": [
      "Enter a number: -1\n",
      "-\n"
     ]
    }
   ],
   "source": [
    "# start\n",
    "\n",
    "# ask user for a number\n",
    "num_str = input('Enter a number: ')\n",
    "num = float(num_str)\n",
    "# if num>0, print +\n",
    "if num>0:\n",
    "    print('+')\n",
    "# if num==0, print 0\n",
    "elif num==0:\n",
    "    print(\"0\")\n",
    "# in all other cases, print -\n",
    "else:\n",
    "    print('-')\n",
    "# stop"
   ]
  },
  {
   "cell_type": "code",
   "execution_count": 20,
   "metadata": {},
   "outputs": [
    {
     "name": "stdout",
     "output_type": "stream",
     "text": [
      "Enter a number: 0\n",
      "0\n"
     ]
    }
   ],
   "source": [
    "# start\n",
    "\n",
    "# ask user for input\n",
    "num_str = input('Enter a number: ')\n",
    "# determine if the user entered a number or a word\n",
    "try:\n",
    "    num = float(num_str)\n",
    "    # if a number\n",
    "    # if n>0 print +\n",
    "    # if n==0, print 0\n",
    "    # else n<0, print -\n",
    "    if num>0:\n",
    "        print('+')\n",
    "    elif num==0:\n",
    "        print('0')\n",
    "    else:\n",
    "        print('-')\n",
    "# if a word\n",
    "except:\n",
    "    print('invalid input')\n",
    "    # print invalid input\n",
    "\n",
    "\n",
    "#top"
   ]
  },
  {
   "cell_type": "code",
   "execution_count": 21,
   "metadata": {},
   "outputs": [
    {
     "name": "stdout",
     "output_type": "stream",
     "text": [
      "Which weather type? humid, temp, rain, pressure: humid\n",
      "https://api.thingspeak.com/channels/12397/fields/3.csv?results=5\n"
     ]
    }
   ],
   "source": [
    "# url: https://api.thingspeak.com/channels/12397/fields/4.csv?results=5\n",
    "# 3 -> Humid\n",
    "# 4 -> Temp\n",
    "# 5 -> Rain\n",
    "# 6 --> pressure\n",
    "\n",
    "w_type_str = input('Which weather type? humid, temp, rain, pressure: ')\n",
    "\n",
    "if w_type_str == 'humid':\n",
    "    w_type_num = '3'\n",
    "elif w_type_str == 'rain':\n",
    "    w_type_num = '5'\n",
    "elif w_type_str == 'pressure':\n",
    "    w_type_num = '6'\n",
    "else:\n",
    "    w_type_num = '4'   # default is temperature\n",
    "    \n",
    "url1 = 'https://api.thingspeak.com/channels/12397/fields/'\n",
    "url2 = w_type_num\n",
    "url3 = '.csv?results=5'\n",
    "url = url1+url2+url3\n",
    "print(url)\n"
   ]
  },
  {
   "cell_type": "code",
   "execution_count": 22,
   "metadata": {},
   "outputs": [],
   "source": [
    "import numpy as np\n",
    "import pandas as pd\n",
    "import matplotlib.pyplot as plt\n",
    "%matplotlib inline"
   ]
  },
  {
   "cell_type": "code",
   "execution_count": 24,
   "metadata": {},
   "outputs": [
    {
     "name": "stdout",
     "output_type": "stream",
     "text": [
      "Which weather type? humid, temp, rain, pressure: temp\n",
      "https://api.thingspeak.com/channels/12397/fields/4.csv?results=5\n"
     ]
    },
    {
     "data": {
      "image/png": "[encoded data removed]",
      "text/plain": [
       "<Figure size 432x288 with 1 Axes>"
      ]
     },
     "metadata": {
      "needs_background": "light"
     },
     "output_type": "display_data"
    }
   ],
   "source": [
    "\n",
    "\n",
    "w_type_str = input('Which weather type? humid, temp, rain, pressure: ')\n",
    "\n",
    "if w_type_str == 'humid':\n",
    "    w_type_num = '3'\n",
    "elif w_type_str == 'rain':\n",
    "    w_type_num = '5'\n",
    "elif w_type_str == 'pressure':\n",
    "    w_type_num = '6'\n",
    "else:\n",
    "    w_type_num = '4'   # default is temperature\n",
    "\n",
    "url1 = 'https://api.thingspeak.com/channels/12397/fields/'\n",
    "url2 = w_type_num\n",
    "url3 = '.csv?results=5'\n",
    "url = url1+url2+url3\n",
    "print(url)\n",
    "\n",
    "if w_type_str == 'humid':\n",
    "    y_axis_label ='Humidity (%)'\n",
    "elif w_type_str == 'rain':\n",
    "    y_axis_label = 'Rainfall (in)'\n",
    "elif w_type_str == 'pressure':\n",
    "    y_axis_label = 'Pressure (mm Hg)'\n",
    "else:\n",
    "    y_axis_label = 'Temperature (*F)'\n",
    "\n",
    "if w_type_str == 'humid':\n",
    "    col_header = 'field3'\n",
    "elif w_type_str == 'rain':\n",
    "    col_header = 'field5'\n",
    "elif w_type_str == 'pressure':\n",
    "    col_header = 'field6'\n",
    "else:\n",
    "    col_header = 'field4'\n",
    "df = pd.read_csv(url)\n",
    "#df[col_header]\n",
    "a = np.array(df[col_header])\n",
    "\n",
    "fig, ax = plt.subplots()\n",
    "ax.plot(a)\n",
    "ax.set_ylabel(y_axis_label)\n",
    "ax.set_xlabel('Data Point (#)')\n",
    "plt.show()"
   ]
  },
  {
   "cell_type": "code",
   "execution_count": null,
   "metadata": {},
   "outputs": [],
   "source": []
  }
 ],
 "metadata": {
  "kernelspec": {
   "display_name": "Python 3",
   "language": "python",
   "name": "python3"
  },
  "language_info": {
   "codemirror_mode": {
    "name": "ipython",
    "version": 3
   },
   "file_extension": ".py",
   "mimetype": "text/x-python",
   "name": "python",
   "nbconvert_exporter": "python",
   "pygments_lexer": "ipython3",
   "version": "3.7.0"
  }
 },
 "nbformat": 4,
 "nbformat_minor": 2
}
