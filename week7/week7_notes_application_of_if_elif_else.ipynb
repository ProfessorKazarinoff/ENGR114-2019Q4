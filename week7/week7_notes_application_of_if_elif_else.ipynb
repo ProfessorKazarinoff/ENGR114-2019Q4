{
 "cells": [
  {
   "cell_type": "markdown",
   "metadata": {},
   "source": [
    "# Week 7 Notes- Practical application of if, elif, else"
   ]
  },
  {
   "cell_type": "code",
   "execution_count": 7,
   "metadata": {},
   "outputs": [],
   "source": [
    "import numpy as np\n",
    "import pandas as pd\n",
    "import matplotlib.pyplot as plt\n",
    "%matplotlib inline"
   ]
  },
  {
   "cell_type": "code",
   "execution_count": 18,
   "metadata": {},
   "outputs": [
    {
     "name": "stdout",
     "output_type": "stream",
     "text": [
      "Weather type- temp, humid, pressure, rain:rain\n",
      "https://api.thingspeak.com/channels/12397/fields/5.csv?results=20\n"
     ]
    },
    {
     "data": {
      "image/png": "[encoded data removed]",
      "text/plain": [
       "<Figure size 432x288 with 1 Axes>"
      ]
     },
     "metadata": {
      "needs_background": "light"
     },
     "output_type": "display_data"
    }
   ],
   "source": [
    "#df = pd.read_csv('https://api.thingspeak.com/channels/12397/fields/4.csv?results=20')\n",
    "w_type_str = input('Weather type- temp, humid, pressure, rain:')\n",
    "\n",
    "if w_type_str =='humid':\n",
    "    w_type_num='3'\n",
    "elif w_type_str == 'rain' or w_tyep_str=='rainfall':\n",
    "    w_type_num='5'\n",
    "elif w_type_str =='pressure':\n",
    "    w_type_num='6'\n",
    "else:\n",
    "    w_type_num='4'\n",
    "\n",
    "url1 = 'https://api.thingspeak.com/channels/12397/fields/'\n",
    "url2 = w_type_num\n",
    "url3 = '.csv?results=20'\n",
    "url = url1+url2+url3\n",
    "print(url)\n",
    "\n",
    "\n",
    "df = pd.read_csv(url)\n",
    "#print(df.head)\n",
    "index_col = 'field'+w_type_num\n",
    "a = df[index_col]\n",
    "\n",
    "if w_type_str =='humid':\n",
    "    axis_label='Humidity (%)'\n",
    "elif w_type_str == 'rain':\n",
    "    axis_label='Rainfall (in)'\n",
    "elif w_type_str =='pressure':\n",
    "    axis_label='Pressure (mm Hg)'\n",
    "else:\n",
    "    axis_label='Temperature(*F)'\n",
    "\n",
    "fig, ax = plt.subplots()\n",
    "ax.plot(a)\n",
    "\n",
    "ax.set_ylabel(axis_label)\n",
    "\n",
    "plt.show()"
   ]
  },
  {
   "cell_type": "code",
   "execution_count": null,
   "metadata": {},
   "outputs": [],
   "source": []
  }
 ],
 "metadata": {
  "kernelspec": {
   "display_name": "Python 3",
   "language": "python",
   "name": "python3"
  },
  "language_info": {
   "codemirror_mode": {
    "name": "ipython",
    "version": 3
   },
   "file_extension": ".py",
   "mimetype": "text/x-python",
   "name": "python",
   "nbconvert_exporter": "python",
   "pygments_lexer": "ipython3",
   "version": "3.7.0"
  }
 },
 "nbformat": 4,
 "nbformat_minor": 2
}
