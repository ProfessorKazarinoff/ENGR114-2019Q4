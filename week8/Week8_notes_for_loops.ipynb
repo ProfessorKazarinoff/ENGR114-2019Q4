{
 "cells": [
  {
   "cell_type": "markdown",
   "metadata": {},
   "source": [
    "# Week 8 Notes: For Loops"
   ]
  },
  {
   "cell_type": "markdown",
   "metadata": {},
   "source": [
    "For loops run a section of code a specific number of times. In Python, a for loop can be initialized with any iterable object. For loops can be initialized with:\n",
    " \n",
    " * range() function\n",
    " * lists\n",
    " * strings\n",
    " * dictionaries, tuples, sets"
   ]
  },
  {
   "cell_type": "markdown",
   "metadata": {},
   "source": [
    "## Basic For Loops Syntax\n",
    "\n",
    "```\n",
    "for <var> in <interable>:\n",
    "    <code>\n",
    "```"
   ]
  },
  {
   "cell_type": "code",
   "execution_count": 1,
   "metadata": {},
   "outputs": [
    {
     "name": "stdout",
     "output_type": "stream",
     "text": [
      "ENGR114\n",
      "ENGR114\n",
      "ENGR114\n"
     ]
    }
   ],
   "source": [
    "print('ENGR114')\n",
    "print('ENGR114')\n",
    "print('ENGR114')"
   ]
  },
  {
   "cell_type": "code",
   "execution_count": 2,
   "metadata": {},
   "outputs": [
    {
     "name": "stdout",
     "output_type": "stream",
     "text": [
      "ENGR114\n",
      "ENGR114\n",
      "ENGR114\n"
     ]
    }
   ],
   "source": [
    "for i in range(3):\n",
    "    print('ENGR114')"
   ]
  },
  {
   "cell_type": "code",
   "execution_count": 3,
   "metadata": {},
   "outputs": [
    {
     "name": "stdout",
     "output_type": "stream",
     "text": [
      "0\n",
      "1\n",
      "2\n"
     ]
    }
   ],
   "source": [
    "for i in range(3):\n",
    "    print(i)"
   ]
  },
  {
   "cell_type": "code",
   "execution_count": 4,
   "metadata": {},
   "outputs": [
    {
     "name": "stdout",
     "output_type": "stream",
     "text": [
      "10\n",
      "12\n",
      "14\n",
      "16\n"
     ]
    }
   ],
   "source": [
    "# range(start,stop,step)\n",
    "# print the numbers 10 - 16, only even\n",
    "for i in range(10,18,2):\n",
    "    print(i)"
   ]
  },
  {
   "cell_type": "code",
   "execution_count": 5,
   "metadata": {},
   "outputs": [
    {
     "name": "stdout",
     "output_type": "stream",
     "text": [
      "[10, 12, 14, 16]\n"
     ]
    }
   ],
   "source": [
    "# create a list of num,bers 10 - 16, only even using a for loop\n",
    "lst = []   # create an empty list\n",
    "for i in range(10,18,2):\n",
    "    lst.append(i)\n",
    "print(lst)"
   ]
  },
  {
   "cell_type": "markdown",
   "metadata": {},
   "source": [
    "## Use a for loop based on a list"
   ]
  },
  {
   "cell_type": "code",
   "execution_count": 6,
   "metadata": {},
   "outputs": [
    {
     "name": "stdout",
     "output_type": "stream",
     "text": [
      "10\n",
      "12\n",
      "14\n",
      "16\n"
     ]
    }
   ],
   "source": [
    "# use a for loop to print out all of the values from a list\n",
    "lst = [10, 12, 14, 16]\n",
    "for i in lst:\n",
    "    print(i)"
   ]
  },
  {
   "cell_type": "code",
   "execution_count": 7,
   "metadata": {},
   "outputs": [
    {
     "name": "stdout",
     "output_type": "stream",
     "text": [
      "[12, 14, 16, 18]\n"
     ]
    }
   ],
   "source": [
    "# add the number 2 to each value in a list\n",
    "n_lst=[] # create an empy list to hold the numbers that have 2 added to them\n",
    "lst = [10, 12, 14, 16] # create a list of numbers that 2 will be added to\n",
    "for i in lst:\n",
    "    n_lst.append(i+2)\n",
    "print(n_lst)"
   ]
  },
  {
   "cell_type": "markdown",
   "metadata": {},
   "source": [
    "## Run a for loop using a string"
   ]
  },
  {
   "cell_type": "code",
   "execution_count": 8,
   "metadata": {},
   "outputs": [
    {
     "name": "stdout",
     "output_type": "stream",
     "text": [
      "E N G R 1 1 4 "
     ]
    }
   ],
   "source": [
    "# place a space between the letters and numbers in ENGR114\n",
    "course = 'ENGR114'\n",
    "for character in course:\n",
    "    print(character + ' ', end='')\n"
   ]
  },
  {
   "cell_type": "markdown",
   "metadata": {},
   "source": [
    "## Run a for loop using enumerate()"
   ]
  },
  {
   "cell_type": "code",
   "execution_count": 9,
   "metadata": {},
   "outputs": [
    {
     "name": "stdout",
     "output_type": "stream",
     "text": [
      "index:0 character:E\n",
      "index:1 character:N\n",
      "index:2 character:G\n",
      "index:3 character:R\n",
      "index:4 character:1\n",
      "index:5 character:1\n",
      "index:6 character:4\n"
     ]
    }
   ],
   "source": [
    "# print out the character number (character index) and the character of a string\n",
    "course = 'ENGR114'\n",
    "for i,character in enumerate(course):\n",
    "    print(f'index:{i} character:{character}')"
   ]
  },
  {
   "cell_type": "code",
   "execution_count": 10,
   "metadata": {},
   "outputs": [
    {
     "name": "stdout",
     "output_type": "stream",
     "text": [
      "index:0 number:10\n",
      "index:1 number:12\n",
      "index:2 number:14\n",
      "index:3 number:16\n"
     ]
    }
   ],
   "source": [
    "# print out the character number (character index) and the character of a string\n",
    "lst = [10,12,14,16]\n",
    "for i,num in enumerate(lst):\n",
    "    print(f'index:{i} number:{num}')"
   ]
  },
  {
   "cell_type": "code",
   "execution_count": null,
   "metadata": {},
   "outputs": [],
   "source": []
  }
 ],
 "metadata": {
  "kernelspec": {
   "display_name": "Python 3",
   "language": "python",
   "name": "python3"
  },
  "language_info": {
   "codemirror_mode": {
    "name": "ipython",
    "version": 3
   },
   "file_extension": ".py",
   "mimetype": "text/x-python",
   "name": "python",
   "nbconvert_exporter": "python",
   "pygments_lexer": "ipython3",
   "version": "3.7.0"
  }
 },
 "nbformat": 4,
 "nbformat_minor": 2
}
