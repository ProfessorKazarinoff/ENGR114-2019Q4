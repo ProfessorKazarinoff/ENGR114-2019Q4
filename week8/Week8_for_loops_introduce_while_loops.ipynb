{
 "cells": [
  {
   "cell_type": "markdown",
   "metadata": {},
   "source": [
    "# For Loops"
   ]
  },
  {
   "cell_type": "code",
   "execution_count": 1,
   "metadata": {},
   "outputs": [
    {
     "name": "stdout",
     "output_type": "stream",
     "text": [
      "yeah\n",
      "yeah\n",
      "yeah\n"
     ]
    }
   ],
   "source": [
    "for i in range(3):\n",
    "    print('yeah')"
   ]
  },
  {
   "cell_type": "code",
   "execution_count": 3,
   "metadata": {},
   "outputs": [
    {
     "name": "stdout",
     "output_type": "stream",
     "text": [
      "Type yes or no: yeah\n",
      "Type yes or no: yeah\n",
      "Type yes or no: yeah\n",
      "Thank-you for entering yes or no\n"
     ]
    }
   ],
   "source": [
    "# Ask a user for yes or no and keep asking until they type yes or no\n",
    "for i in range(3):\n",
    "    resp = input('Type yes or no: ')\n",
    "    if resp == 'yes' or resp == 'no':\n",
    "        break\n",
    "print('Thank-you for entering yes or no')"
   ]
  },
  {
   "cell_type": "markdown",
   "metadata": {},
   "source": [
    "# While Loops"
   ]
  },
  {
   "cell_type": "markdown",
   "metadata": {},
   "source": [
    "```\n",
    "while <logical condition>:\n",
    "    <code>\n",
    "```"
   ]
  },
  {
   "cell_type": "code",
   "execution_count": 5,
   "metadata": {},
   "outputs": [
    {
     "name": "stdout",
     "output_type": "stream",
     "text": [
      "1\n",
      "2\n",
      "3\n",
      "while loop ended\n"
     ]
    }
   ],
   "source": [
    "i = 0\n",
    "while i<3:\n",
    "    i = i + 1\n",
    "    print(i)\n",
    "\n",
    "print(\"while loop ended\")"
   ]
  },
  {
   "cell_type": "code",
   "execution_count": 8,
   "metadata": {},
   "outputs": [
    {
     "name": "stdout",
     "output_type": "stream",
     "text": [
      "Enter on off or q for quiton\n",
      "on\n",
      "Enter on off or q for quitof\n",
      "of\n",
      "Enter on off or q for quiton\n",
      "on\n",
      "Enter on off or q for quitq\n",
      "q\n"
     ]
    }
   ],
   "source": [
    "# Ask the user to type on or off until they type q for quit\n",
    "\n",
    "# set the input as invalid, so that the while loop starts\n",
    "resp = 'invalid'   # any string that isn't what we ask for\n",
    "while resp != 'q':\n",
    "    resp = input('Enter on off or q for quit')\n",
    "    print(resp)"
   ]
  },
  {
   "cell_type": "code",
   "execution_count": null,
   "metadata": {},
   "outputs": [],
   "source": []
  },
  {
   "cell_type": "code",
   "execution_count": null,
   "metadata": {},
   "outputs": [],
   "source": []
  },
  {
   "cell_type": "code",
   "execution_count": null,
   "metadata": {},
   "outputs": [],
   "source": []
  },
  {
   "cell_type": "code",
   "execution_count": null,
   "metadata": {},
   "outputs": [],
   "source": []
  },
  {
   "cell_type": "code",
   "execution_count": null,
   "metadata": {},
   "outputs": [],
   "source": []
  }
 ],
 "metadata": {
  "kernelspec": {
   "display_name": "Python 3",
   "language": "python",
   "name": "python3"
  },
  "language_info": {
   "codemirror_mode": {
    "name": "ipython",
    "version": 3
   },
   "file_extension": ".py",
   "mimetype": "text/x-python",
   "name": "python",
   "nbconvert_exporter": "python",
   "pygments_lexer": "ipython3",
   "version": "3.7.0"
  }
 },
 "nbformat": 4,
 "nbformat_minor": 2
}
