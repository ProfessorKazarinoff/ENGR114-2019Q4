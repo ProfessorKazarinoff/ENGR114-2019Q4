{
 "cells": [
  {
   "cell_type": "markdown",
   "metadata": {},
   "source": [
    "# Am Introduction to Lab 2: Data Types"
   ]
  },
  {
   "cell_type": "code",
   "execution_count": 3,
   "metadata": {},
   "outputs": [
    {
     "name": "stdout",
     "output_type": "stream",
     "text": [
      " Volume in drive C is Windows\n",
      " Volume Serial Number is B899-AB94\n",
      "\n",
      " Directory of C:\\Users\\student\\Desktop\n",
      "\n",
      "10/03/2019  02:16 PM    <DIR>          .\n",
      "10/03/2019  02:16 PM    <DIR>          ..\n",
      "10/03/2019  02:12 PM    <DIR>          .ipynb_checkpoints\n",
      "10/03/2019  02:10 PM             1,378 cat_in_hat_words.txt\n",
      "10/02/2019  12:56 PM             1,457 Kaltura Capture.lnk\n",
      "10/03/2019  02:16 PM               815 lab2_intro.ipynb\n",
      "05/13/2016  01:33 PM               210 MSDS Online.url\n",
      "08/01/2018  04:14 PM    <DIR>          Safety Information\n",
      "10/03/2019  01:59 PM             9,118 String_Operations_and_Input.ipynb\n",
      "               5 File(s)         12,978 bytes\n",
      "               4 Dir(s)  322,074,517,504 bytes free\n"
     ]
    }
   ],
   "source": [
    "%ls"
   ]
  },
  {
   "cell_type": "code",
   "execution_count": 4,
   "metadata": {},
   "outputs": [
    {
     "name": "stdout",
     "output_type": "stream",
     "text": [
      "['a', 'about', 'after', 'all', 'always', 'and', 'another', 'any', 'are', 'as', 'asked', 'at', 'away', 'back', 'bad', 'ball', 'be', 'bed', 'bent', 'bet', 'big', 'bit', 'bite', 'book', 'books', 'bow', 'box', 'bump', 'bumps', 'but', 'by', 'ca', 'cake', 'call', 'came', 'can', 'cat', 'cold', 'come', 'could', 'cup', 'day', 'dear', 'deep', 'did', 'dish', 'do', 'dots', 'down', 'fall', 'fan', 'fast', 'fear', 'fell', 'find', 'fish', 'fly', 'for', 'fox', 'from', 'fun', 'funny', 'game', 'games', 'gave', 'get', 'give', 'go', 'gone', 'good', 'got', 'gown', 'had', 'hall', 'hand', 'hands', 'has', 'hat', 'have', 'he', 'head', 'hear', 'her', 'here', 'high', 'him', 'his', 'hit', 'hold', 'home', 'hook', 'hop', 'hops', 'house', 'how', 'i', 'if', 'in', 'into', 'is', 'it', 'jump', 'jumps', 'kicks', 'kind', 'kinds', 'kite', 'kites', 'know', 'last', 'let', 'like', 'lit', 'litte', 'little', 'look', 'looked', 'lot', 'lots', 'made', 'make', 'man', 'mat', 'me', 'mess', 'milk', 'mind', 'mother', 'my', 'near', 'net', 'new', 'no', 'not', 'nothing', 'now', 'of', 'oh', 'on', 'one', 'our', 'out', 'pack', 'pat', 'pick', 'picked', 'pink', 'play', 'playthings', 'plop', 'pot', 'put', 'rake', 'ran', 'red', 'rid', 'run', 'sad', 'said', 'sally', 'sank', 'sat', 'saw', 'say', 'see', 'shake', 'shame', 'she', 'shine', 'ship', 'shook', 'should', 'show', 'shut', 'sit', 'so', 'some', 'something', 'stand', 'step', 'stop', 'string', 'strings', 'sun', 'sunny', 'tail', 'take', 'tall', 'tame', 'tell', 'that', 'the', 'their', 'them', 'then', 'there', 'these', 'they', 'thing', 'things', 'think', 'this', 'thoe', 'those', 'thump', 'thumps', 'tip', 'to', 'too', 'top', 'toy', 'trick', 'tricks', 'two', 'up', 'us', 'wall', 'want', 'was', 'way', 'we', 'well', 'went', 'were', 'wet', 'what', 'when', 'white', 'who', 'why', 'will', 'wish', 'with', 'wood', 'would', 'yes', 'yet', 'you', 'your']\n"
     ]
    }
   ],
   "source": [
    "with open('cat_in_hat_words.txt', 'r') as f:\n",
    "    words = [line.strip() for line in f.readlines()]\n",
    "print(words)"
   ]
  },
  {
   "cell_type": "code",
   "execution_count": 5,
   "metadata": {},
   "outputs": [
    {
     "data": {
      "text/plain": [
       "'always'"
      ]
     },
     "execution_count": 5,
     "metadata": {},
     "output_type": "execute_result"
    }
   ],
   "source": [
    "words[4]"
   ]
  },
  {
   "cell_type": "code",
   "execution_count": 6,
   "metadata": {},
   "outputs": [
    {
     "data": {
      "text/plain": [
       "239"
      ]
     },
     "execution_count": 6,
     "metadata": {},
     "output_type": "execute_result"
    }
   ],
   "source": [
    "len(words)"
   ]
  },
  {
   "cell_type": "code",
   "execution_count": null,
   "metadata": {},
   "outputs": [],
   "source": []
  }
 ],
 "metadata": {
  "kernelspec": {
   "display_name": "Python 3",
   "language": "python",
   "name": "python3"
  },
  "language_info": {
   "codemirror_mode": {
    "name": "ipython",
    "version": 3
   },
   "file_extension": ".py",
   "mimetype": "text/x-python",
   "name": "python",
   "nbconvert_exporter": "python",
   "pygments_lexer": "ipython3",
   "version": "3.7.0"
  }
 },
 "nbformat": 4,
 "nbformat_minor": 2
}
